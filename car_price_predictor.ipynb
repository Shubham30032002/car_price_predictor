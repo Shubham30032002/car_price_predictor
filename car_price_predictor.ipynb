{
 "cells": [
  {
   "cell_type": "code",
   "execution_count": 1,
   "id": "037a0ed1",
   "metadata": {},
   "outputs": [],
   "source": [
    "import pandas as pd\n",
    "import numpy as np"
   ]
  },
  {
   "cell_type": "code",
   "execution_count": 2,
   "id": "43396c18",
   "metadata": {},
   "outputs": [],
   "source": [
    "car=pd.read_csv('quikr_car.csv')"
   ]
  },
  {
   "cell_type": "code",
   "execution_count": 3,
   "id": "64ce4a09",
   "metadata": {},
   "outputs": [
    {
     "data": {
      "text/html": [
       "<div>\n",
       "<style scoped>\n",
       "    .dataframe tbody tr th:only-of-type {\n",
       "        vertical-align: middle;\n",
       "    }\n",
       "\n",
       "    .dataframe tbody tr th {\n",
       "        vertical-align: top;\n",
       "    }\n",
       "\n",
       "    .dataframe thead th {\n",
       "        text-align: right;\n",
       "    }\n",
       "</style>\n",
       "<table border=\"1\" class=\"dataframe\">\n",
       "  <thead>\n",
       "    <tr style=\"text-align: right;\">\n",
       "      <th></th>\n",
       "      <th>name</th>\n",
       "      <th>company</th>\n",
       "      <th>year</th>\n",
       "      <th>Price</th>\n",
       "      <th>kms_driven</th>\n",
       "      <th>fuel_type</th>\n",
       "    </tr>\n",
       "  </thead>\n",
       "  <tbody>\n",
       "    <tr>\n",
       "      <th>0</th>\n",
       "      <td>Hyundai Santro Xing XO eRLX Euro III</td>\n",
       "      <td>Hyundai</td>\n",
       "      <td>2007</td>\n",
       "      <td>80,000</td>\n",
       "      <td>45,000 kms</td>\n",
       "      <td>Petrol</td>\n",
       "    </tr>\n",
       "    <tr>\n",
       "      <th>1</th>\n",
       "      <td>Mahindra Jeep CL550 MDI</td>\n",
       "      <td>Mahindra</td>\n",
       "      <td>2006</td>\n",
       "      <td>4,25,000</td>\n",
       "      <td>40 kms</td>\n",
       "      <td>Diesel</td>\n",
       "    </tr>\n",
       "    <tr>\n",
       "      <th>2</th>\n",
       "      <td>Maruti Suzuki Alto 800 Vxi</td>\n",
       "      <td>Maruti</td>\n",
       "      <td>2018</td>\n",
       "      <td>Ask For Price</td>\n",
       "      <td>22,000 kms</td>\n",
       "      <td>Petrol</td>\n",
       "    </tr>\n",
       "    <tr>\n",
       "      <th>3</th>\n",
       "      <td>Hyundai Grand i10 Magna 1.2 Kappa VTVT</td>\n",
       "      <td>Hyundai</td>\n",
       "      <td>2014</td>\n",
       "      <td>3,25,000</td>\n",
       "      <td>28,000 kms</td>\n",
       "      <td>Petrol</td>\n",
       "    </tr>\n",
       "    <tr>\n",
       "      <th>4</th>\n",
       "      <td>Ford EcoSport Titanium 1.5L TDCi</td>\n",
       "      <td>Ford</td>\n",
       "      <td>2014</td>\n",
       "      <td>5,75,000</td>\n",
       "      <td>36,000 kms</td>\n",
       "      <td>Diesel</td>\n",
       "    </tr>\n",
       "  </tbody>\n",
       "</table>\n",
       "</div>"
      ],
      "text/plain": [
       "                                     name   company  year          Price  \\\n",
       "0    Hyundai Santro Xing XO eRLX Euro III   Hyundai  2007         80,000   \n",
       "1                 Mahindra Jeep CL550 MDI  Mahindra  2006       4,25,000   \n",
       "2              Maruti Suzuki Alto 800 Vxi    Maruti  2018  Ask For Price   \n",
       "3  Hyundai Grand i10 Magna 1.2 Kappa VTVT   Hyundai  2014       3,25,000   \n",
       "4        Ford EcoSport Titanium 1.5L TDCi      Ford  2014       5,75,000   \n",
       "\n",
       "   kms_driven fuel_type  \n",
       "0  45,000 kms    Petrol  \n",
       "1      40 kms    Diesel  \n",
       "2  22,000 kms    Petrol  \n",
       "3  28,000 kms    Petrol  \n",
       "4  36,000 kms    Diesel  "
      ]
     },
     "execution_count": 3,
     "metadata": {},
     "output_type": "execute_result"
    }
   ],
   "source": [
    "car.head()"
   ]
  },
  {
   "cell_type": "code",
   "execution_count": 4,
   "id": "fb2e8405",
   "metadata": {},
   "outputs": [
    {
     "name": "stdout",
     "output_type": "stream",
     "text": [
      "<class 'pandas.core.frame.DataFrame'>\n",
      "RangeIndex: 892 entries, 0 to 891\n",
      "Data columns (total 6 columns):\n",
      " #   Column      Non-Null Count  Dtype \n",
      "---  ------      --------------  ----- \n",
      " 0   name        892 non-null    object\n",
      " 1   company     892 non-null    object\n",
      " 2   year        892 non-null    object\n",
      " 3   Price       892 non-null    object\n",
      " 4   kms_driven  840 non-null    object\n",
      " 5   fuel_type   837 non-null    object\n",
      "dtypes: object(6)\n",
      "memory usage: 41.9+ KB\n"
     ]
    }
   ],
   "source": [
    "car.info()"
   ]
  },
  {
   "cell_type": "code",
   "execution_count": 5,
   "id": "b1e754bf",
   "metadata": {},
   "outputs": [
    {
     "data": {
      "text/plain": [
       "array(['Hyundai Santro Xing XO eRLX Euro III', 'Mahindra Jeep CL550 MDI',\n",
       "       'Maruti Suzuki Alto 800 Vxi',\n",
       "       'Hyundai Grand i10 Magna 1.2 Kappa VTVT',\n",
       "       'Ford EcoSport Titanium 1.5L TDCi', 'Ford Figo', 'Hyundai Eon',\n",
       "       'Ford EcoSport Ambiente 1.5L TDCi',\n",
       "       'Maruti Suzuki Alto K10 VXi AMT', 'Skoda Fabia Classic 1.2 MPI',\n",
       "       'Maruti Suzuki Stingray VXi', 'Hyundai Elite i20 Magna 1.2',\n",
       "       'Mahindra Scorpio SLE BS IV', 'Audi A8', 'Audi Q7',\n",
       "       'Mahindra Scorpio S10', 'Maruti Suzuki Alto 800',\n",
       "       'Hyundai i20 Sportz 1.2', 'Maruti Suzuki Alto 800 Lx',\n",
       "       'Maruti Suzuki Vitara Brezza ZDi', 'Maruti Suzuki Alto LX',\n",
       "       'Mahindra Bolero DI', 'Maruti Suzuki Swift Dzire ZDi',\n",
       "       'Mahindra Scorpio S10 4WD', 'Maruti Suzuki Swift Vdi BSIII',\n",
       "       'Maruti Suzuki Wagon R VXi BS III',\n",
       "       'Maruti Suzuki Wagon R VXi Minor',\n",
       "       'Toyota Innova 2.0 G 8 STR BS IV', 'Renault Lodgy 85 PS RXL',\n",
       "       'Skoda Yeti Ambition 2.0 TDI CR 4x2',\n",
       "       'Maruti Suzuki Baleno Delta 1.2',\n",
       "       'Renault Duster 110 PS RxZ Diesel Plus',\n",
       "       'Renault Duster 85 PS RxE Diesel', 'Honda City 1.5 S MT',\n",
       "       'Maruti Suzuki Dzire', 'Honda Amaze', 'Honda Amaze 1.5 SX i DTEC',\n",
       "       'Honda City', 'Datsun Redi GO S', 'Maruti Suzuki SX4 ZXI MT',\n",
       "       'Mitsubishi Pajero Sport Limited Edition',\n",
       "       'Maruti Suzuki Swift VXi 1.2 ABS BS IV', 'Honda City ZX CVT',\n",
       "       'Maruti Suzuki Wagon R LX BS IV', 'Tata Indigo eCS LS CR4 BS IV',\n",
       "       'Volkswagen Polo Highline Exquisite P',\n",
       "       'I want to sell my car Tata Zest', 'Chevrolet Spark LS 1.0',\n",
       "       'Renault Duster 110PS Diesel RxZ', 'Mini Cooper S 1.6',\n",
       "       'Skoda Fabia 1.2L Diesel Ambiente', 'Renault Duster',\n",
       "       'Mahindra Scorpio S4', 'Mahindra Scorpio VLX 2WD BS IV',\n",
       "       'Mahindra Quanto C8', 'Ford EcoSport', 'Honda Brio',\n",
       "       'Volkswagen Vento Highline Plus 1.5 Diesel AT',\n",
       "       'Hyundai i20 Magna', 'Toyota Corolla Altis Diesel D4DG',\n",
       "       'Hyundai Verna Transform SX VTVT',\n",
       "       'Toyota Corolla Altis Petrol Ltd', 'Honda City 1.5 EXi New',\n",
       "       'Skoda Fabia 1.2L Diesel Elegance', 'BMW 3 Series 320i',\n",
       "       'Maruti Suzuki A Star Lxi', 'Toyota Etios GD',\n",
       "       'Ford Figo Diesel EXI Option',\n",
       "       'Maruti Suzuki Swift Dzire VXi 1.2 BS IV',\n",
       "       'Chevrolet Beat LT Diesel', 'BMW 7 Series 740Li Sedan',\n",
       "       'Mahindra XUV500 W8 AWD 2013', 'Hyundai i10 Magna 1.2',\n",
       "       'Hyundai Verna Fluidic New', 'Maruti Suzuki Swift VXi 1.2 BS IV',\n",
       "       'Maruti Suzuki Ertiga ZXI Plus', 'Maruti Suzuki Ertiga Vxi',\n",
       "       'Maruti Suzuki Ertiga VDi', 'Maruti Suzuki Alto LXi BS III',\n",
       "       'Hyundai Grand i10 Asta 1.1 CRDi', 'Honda Amaze 1.2 S i VTEC',\n",
       "       'Hyundai i20 Asta 1.4 CRDI 6 Speed', 'Ford Figo Diesel EXI',\n",
       "       'Maruti Suzuki Eeco 5 STR WITH AC HTR', 'Maruti Suzuki Ertiga ZXi',\n",
       "       'Maruti Suzuki Esteem LXi BS III', 'Maruti Suzuki Ritz VXI',\n",
       "       'Maruti Suzuki Ritz LDi', 'Maruti Suzuki Dzire VDI',\n",
       "       'Toyota Etios Liva G', 'Hyundai i20 Sportz 1.4 CRDI',\n",
       "       'Chevrolet Spark', 'Nissan Micra XV', 'Maruti Suzuki Swift',\n",
       "       'Honda Amaze 1.5 S i DTEC', 'Chevrolet Beat', 'Toyota Corolla',\n",
       "       'Honda City 1.5 V MT', 'Ford EcoSport Trend 1.5L TDCi',\n",
       "       'Hyundai i20 Asta 1.2', 'Tata Indica V2 eLS',\n",
       "       'Maruti Suzuki Alto 800 Lxi', 'Hindustan Motors Ambassador',\n",
       "       'Toyota Corolla Altis 1.8 GL', 'Toyota Corolla Altis 1.8 J',\n",
       "       'Toyota Innova 2.5 GX BS IV 7 STR',\n",
       "       'Volkswagen Jetta Highline TDI AT',\n",
       "       'Volkswagen Polo Comfortline 1.2L P', 'Volkswagen Polo',\n",
       "       'Mahindra Scorpio', 'Nissan Sunny', 'Hyundai Elite i20',\n",
       "       'Renault Kwid', 'Mahindra Scorpio VLX Airbag',\n",
       "       'Chevrolet Spark LT 1.0', 'Datsun Redi GO T O',\n",
       "       'Maruti Suzuki Swift RS VDI', 'Fiat Punto Emotion 1.2',\n",
       "       'Hyundai i10 Sportz 1.2', 'Chevrolet Beat LT Opt Diesel',\n",
       "       'Chevrolet Beat LS Diesel', 'Tata Indigo CS',\n",
       "       'Maruti Suzuki Swift VDi', 'Hyundai Eon Era Plus',\n",
       "       'Mahindra XUV500', 'Ford Fiesta', 'Maruti Suzuki Wagon R',\n",
       "       'Hyundai i20', 'Tata Indigo eCS LX TDI BS III',\n",
       "       'Hyundai Fluidic Verna 1.6 CRDi SX',\n",
       "       'Commercial , DZire LDI, 2016, for sale', 'Fiat Petra ELX 1.2 PS',\n",
       "       'Hyundai Santro Xing XS', 'Maruti Suzuki Ciaz VXi Plus',\n",
       "       'Maruti Suzuki Zen VX', 'Hyundai Creta 1.6 SX Plus Petrol',\n",
       "       'Tata indigo ecs LX, 201', 'Mahindra Scorpio SLX',\n",
       "       'Toyota Innova 2.5 G BS III 8 STR',\n",
       "       'Maruti Suzuki Wagon R LXI BS IV', 'Tata Nano Cx BSIV',\n",
       "       'Maruti Suzuki Alto Std BS IV', 'Maruti Suzuki Wagon R LXi BS III',\n",
       "       'Maruti Suzuki Swift VXI BSIII',\n",
       "       'Tata Sumo Victa EX 10 by 7 Str BSIII', 'MARUTI SUZUKI DESI',\n",
       "       'Volkswagen Passat Diesel Comfortline AT',\n",
       "       'Renault Scala RxL Diesel Travelogue',\n",
       "       'Hyundai Grand i10 Sportz O 1.2 Kappa VTVT',\n",
       "       'Hyundai i20 Active 1.2 SX', 'Mahindra Xylo E4',\n",
       "       'Mahindra Jeep MM 550 XDB', 'Mahindra Bolero SLE BS IV',\n",
       "       'Force Motors Force One LX ABS 7 STR', 'Maruti Suzuki SX4',\n",
       "       'Toyota Etios', 'Honda City ZX VTEC',\n",
       "       'Maruti Suzuki Wagon R LX BS III', 'Honda City VX O MT Diesel',\n",
       "       'Mahindra Thar CRDe 4x4 AC',\n",
       "       'Audi A4 1.8 TFSI Multitronic Premium Plus',\n",
       "       'Mercedes Benz GLA Class 200 CDI Sport',\n",
       "       'Land Rover Freelander 2 SE', 'Renault Kwid RXT',\n",
       "       'Tata Aria Pleasure 4X2', 'Mercedes Benz B Class B180 Sports',\n",
       "       'Datsun GO T O', 'Honda Jazz VX MT',\n",
       "       'Hyundai i20 Active 1.4L SX O', 'Mini Cooper S',\n",
       "       'Maruti Suzuki Ciaz ZXI Plus', 'Chevrolet Tavera Neo',\n",
       "       'Hyundai Eon Sportz', 'Tata Sumo Gold Select Variant',\n",
       "       'Maruti Suzuki Wagon R 1.0', 'Maruti Suzuki Esteem VXi BS III',\n",
       "       'Chevrolet Enjoy 1.4 LS 8 STR', 'Maruti Suzuki Wagon R 1.0 VXi',\n",
       "       'Nissan Terrano XL D Plus', 'Renault Duster 85 PS RxL Diesel',\n",
       "       'Maruti Suzuki Dzire ZXI', 'Renault Kwid RXT Opt',\n",
       "       'Maruti Suzuki Maruti 800 Std', 'Renault Kwid 1.0 RXT AMT',\n",
       "       'Renault Scala RxL Diesel',\n",
       "       'Hyundai Grand i10 Asta 1.2 Kappa VTVT O',\n",
       "       'Chevrolet Beat LS Petrol', 'Hyundai Accent GLX', 'Yama',\n",
       "       'Maruti Suzuki Swift LDi', 'Mahindra TUV300 T4 Plus',\n",
       "       'Tata Indica V2 Xeta e GLE', 'Tata Indigo CS LS DiCOR',\n",
       "       'Mahindra Scorpio VLX Special Edition BS III',\n",
       "       'Tata Indica eV2 LS', 'Honda Accord',\n",
       "       'Ford EcoSport Titanium 1.5 TDCi', 'Maruti Suzuki Ertiga',\n",
       "       'Mahindra Scorpio 2.6 CRDe', 'Honda Mobilio',\n",
       "       'Toyota Corolla Altis', 'Skoda Laura', 'Hyundai Verna Fluidic',\n",
       "       'Maruti Suzuki Vitara Brezza', 'Tata Manza Aura Quadrajet',\n",
       "       'Chevrolet Sail UVA Petrol LT ABS',\n",
       "       'Hyundai Verna Fluidic 1.6 VTVT SX',\n",
       "       'Audi A4 2.0 TDI 177bhp Premium', 'Hyundai Elantra SX',\n",
       "       'Mahindra Scorpio VLX 4WD Airbag', 'Mahindra KUV100 K8 D 6 STR',\n",
       "       'Hyundai Grand i10', 'Hyundai i10', 'Hyundai i20 Active',\n",
       "       'Datsun Redi GO', 'Toyota Etios Liva', 'Hyundai Accent',\n",
       "       'Hyundai Verna', 'Toyota Fortuner', 'Hyundai i10 Sportz',\n",
       "       'Mahindra Bolero Power Plus SLE', 'selling car Ta',\n",
       "       'Honda City 1.5 V MT Exclusive', 'Chevrolet Spark LT 1.0 Airbag',\n",
       "       'Tata Indigo eCS VX CR4 BS IV', 'Tata Zest 90',\n",
       "       'Skoda Rapid Elegance 1.6 TDI CR MT', 'Tata Vista Quadrajet VX',\n",
       "       'Maruti Suzuki Alto K10 VXi AT', 'Maruti Suzuki Zen LXi BS III',\n",
       "       'Maruti Suzuki Swift Dzire Tour LDi', 'Honda City ZX EXi',\n",
       "       'Chevrolet Beat Diesel', 'Maruti Suzuki Swift Dzire car',\n",
       "       'Hyundai Verna 1.4 VTVT', 'Toyota Innova 2.5 E MS 7 STR BS IV',\n",
       "       'Maruti Suzuki Maruti 800 Std – Befo',\n",
       "       'Hyundai Elite i20 Asta 1.4 CRDI',\n",
       "       'Maruti Suzuki Swift Dzire Tour (Gat',\n",
       "       'Maruti Suzuki Versa DX2 8 SEATER BSIII',\n",
       "       'Tata Indigo LX TDI BS III',\n",
       "       'Volkswagen Vento Konekt Diesel Highline',\n",
       "       'Mercedes Benz C Class 200 CDI Classic', 'URJE',\n",
       "       'Hyundai Santro Xing GLS', 'Maruti Suzuki Omni Limited Edition',\n",
       "       'Hyundai Sonata Transform 2.4 GDi MT',\n",
       "       'Hyundai Elite i20 Sportz 1.2', 'Honda Jazz S MT',\n",
       "       'Hyundai Grand i10 Sportz 1.2 Kappa VTVT',\n",
       "       'Maruti Suzuki Zen LXi BSII',\n",
       "       'Mahindra Scorpio W Turbo 2.6DX 9 Seater',\n",
       "       'Swift Dzire Tour 27 Dec 2016 Regis', 'Maruti Suzuki Alto K10 VXi',\n",
       "       'Hyundai Grand i10 Asta 1.2 Kappa VTVT', 'Mahindra XUV500 W8',\n",
       "       'Hyundai i20 Magna O 1.2', 'Renault Duster 85 PS RxL Explore LE',\n",
       "       'Honda Brio V MT', 'Mahindra TUV300 T8',\n",
       "       'Nissan X Trail Select Variant', 'Ford Ikon 1.3 CLXi NXt Finesse',\n",
       "       'Toyota Fortuner 3.0 4x4 MT', 'Tata Manza ELAN Quadrajet',\n",
       "       'Tata zest x', 'Mahindra xyl',\n",
       "       'Mercedes Benz A Class A 180 Sport Petrol', 'Tata Indigo LS',\n",
       "       'Hyundai i20 Magna 1.2', 'Used Commercial Maruti Omn',\n",
       "       'Honda Amaze 1.5 E i DTEC', 'Hyundai Verna 1.6 EX VTVT',\n",
       "       'BMW 5 Series 520d Sedan', 'Skoda Superb 1.8 TFSI AT',\n",
       "       'Audi Q3 2.0 TDI quattro Premium', 'Mahindra Bolero DI BSII',\n",
       "       'Maruti Suzuki Zen Estilo LXI Green CNG',\n",
       "       'Ford Figo Duratorq Diesel Titanium 1.4',\n",
       "       'Maruti Suzuki Wagon R VXI BS IV', 'Mahindra Logan Diesel 1.5 DLS',\n",
       "       'Tata Nano GenX XMA', 'Honda City SV', 'Ford Figo Petrol LXI',\n",
       "       'Hyundai i10 Magna 1.2 Kappa2', 'Toyota Corolla H2',\n",
       "       'Maruti Suzuki Swift Dzire Tour VXi', 'Tata Indigo CS eLS BS IV',\n",
       "       'Hyundai Xcent Base 1.1 CRDi', 'Hyundai Accent Executive Edition',\n",
       "       'Tata Zest XE 75 PS Diesel', 'Maruti Suzuki Dzire LDI',\n",
       "       'Tata Sumo Gold LX BS IV', 'Toyota Corolla Altis GL Petrol',\n",
       "       'Maruti Suzuki Eeco 7 STR', 'Toyota Fortuner 3.0 4x2 MT',\n",
       "       'Mahindra XUV500 W6', 'Tata Tigor Revotron XZ',\n",
       "       'Maruti Suzuki 800', 'Honda Mobilio S i DTEC',\n",
       "       'Hyundai Verna 1.6 CRDI E', 'Maruti Suzuki Omni Select Variant',\n",
       "       'Tata Indica', 'Hyundai Santro Xing', 'Maruti Suzuki Zen Estilo',\n",
       "       'Honda Brio VX AT', 'Maruti Suzuki Wagon R Select Variant',\n",
       "       'Tata Nano Lx BSIV', 'Jaguar XE XE Portfolio',\n",
       "       'Hyundai Xcent S 1.2', 'Hyundai Eon Magna Plus',\n",
       "       'Maruti Suzuki Ritz GENUS VXI',\n",
       "       'Hyundai Grand i10 Magna AT 1.2 Kappa VTVT',\n",
       "       'Hyundai Eon D Lite Plus', 'Honda Amaze 1.2 VX i VTEC',\n",
       "       'Maruti Suzuki Estilo VXi ABS BS IV',\n",
       "       'Maruti Suzuki Vitara Brezza LDi O', 'Toyota Innova 2.0 V',\n",
       "       'Hyundai Creta 1.6 SX Plus Petrol AT', 'Mahindra Scorpio Vlx BSIV',\n",
       "       'Mitsubishi Lancer 1.8 LXi', 'Maruti Suzuki Maruti 800 AC',\n",
       "       'Maruti Suzuki Alto 800 LXI CNG O', 'Ford Fiesta SXi 1.6 ABS',\n",
       "       'Maruti Suzuki Ritz VDi', 'Maruti Suzuki Estilo LX BS IV',\n",
       "       'Audi A6 2.0 TDI Premium', 'Maruti Suzuki Alto',\n",
       "       'Maruti Suzuki Baleno Sigma 1.2', 'Hyundai Verna 1.6 SX VTVT AT',\n",
       "       'Maruti Suzuki Swift GLAM', 'Hyundai Getz Prime 1.3 GVS',\n",
       "       'Hyundai Santro', 'Hyundai Getz Prime 1.3 GLX',\n",
       "       'Chevrolet Beat PS Diesel', 'Ford EcoSport Trend 1.5 Ti VCT',\n",
       "       'Tata Indica V2 DLG', 'BMW X1 xDrive20d xLine',\n",
       "       'Honda City 1.5 V AT', 'Tata Nano', 'Chevrolet Cruze LTZ AT',\n",
       "       'Hyun', 'Maruti Suzuki Swift Dzire VDi', 'Mahindra XUV500 W10',\n",
       "       'Maruti Suzuki Alto K10 LXi CNG', 'Hyundai Accent GLE',\n",
       "       'Force Motors One SUV', 'Datsun Go Plus T O',\n",
       "       'Chevrolet Spark 1.0 LT', 'Toyota Etios Liva GD',\n",
       "       'Renault Duster 85PS Diesel RxL Optional with Nav',\n",
       "       'Chevrolet Enjoy', 'BMW 5 Series 530i', 'Chevrolet Cruze LTZ',\n",
       "       'Jeep Wrangler Unlimited 4x4 Diesel',\n",
       "       'Hyundai Verna VGT CRDi SX ABS', 'Maruti Suzuki Omni',\n",
       "       'Maruti Suzuki Celerio VDi', 'Tata Zest Quadrajet 1.3',\n",
       "       'Tata Indigo CS eLX BS IV', 'Hyundai i10 Era',\n",
       "       'Tata Indigo eCS LX CR4 BS IV', 'Tata Indigo Marina LS',\n",
       "       'Commercial Chevrolet Sail Hatchback ca', 'Hyundai Xcent SX 1.2',\n",
       "       'Tata Nano LX Special Edition', 'Commercial Car Ta',\n",
       "       'Renault Duster 110 PS RxZ Diesel',\n",
       "       'Maruti Suzuki Wagon R AX BSIV', 'Maruti Suzuki Alto K10 New',\n",
       "       'tata Indica', 'Mahindra Xylo E8', 'Tata Manza Aqua Quadrajet',\n",
       "       'Used bt new conditions ta', 'Renault Kwid 1.0', 'Sale tata',\n",
       "       'Tata Venture EX 8 STR', 'Maruti Suzuki Swift Dzire Tour LXi',\n",
       "       'Maruti Suzuki Alto LX BSII', 'Skoda Octavia Classic 1.9 TDI MT',\n",
       "       'Maruti Suzuki Omni LPG BS IV', 'Tata Sumo Gold EX BS IV',\n",
       "       'Tata indigo 2017 top model..', 'Hyundai Verna 1.6 CRDI SX',\n",
       "       'Mahindra Scorpio SLX 2.6 Turbo 8 Str', 'Ford Ikon 1.6 Nxt',\n",
       "       'Tata indigo', 'Toyota Innova 2.5 V 7 STR', 'Nissan Sunny XL',\n",
       "       'Maruti Suzuki Swift VDi BS IV',\n",
       "       'very good condition tata bolts are av', 'Toyota Innova 2.0 G4',\n",
       "       'Sale Hyundai xcent commerc', 'Maruti Suzuki Swift VDi ABS',\n",
       "       'Hyundai Elite i20 Asta 1.2', 'Volkswagen Polo Trendline 1.5L D',\n",
       "       'Toyota Etios Liva Diesel', 'Maruti Suzuki Ciaz ZXi Plus RS',\n",
       "       'Hyundai Elantra 1.8 S', 'Ford EcoSport Trend 1.5L Ti VCT',\n",
       "       'Jaguar XF 2.2 Diesel Luxury',\n",
       "       'Audi Q5 2.0 TDI quattro Premium Plus', 'BMW 3 Series 320d Sedan',\n",
       "       'Maruti Suzuki Swift ZXi 1.2 BS IV', 'BMW X1 sDrive20d',\n",
       "       'Maruti Suzuki S Cross Sigma 1.3', 'Maruti Suzuki Ertiga LDi',\n",
       "       'Volkswagen Vento Comfortline Petrol', 'Mahindra KUV100',\n",
       "       'Maruti Suzuki Swift Dzire Tour VDi', 'Mahindra Scorpio 2.6 SLX',\n",
       "       'Maruti Suzuki Omni 8 STR BS III',\n",
       "       'Volkswagen Jetta Comfortline 1.9 TDI AT', 'Volvo S80 Summum D4',\n",
       "       'Toyota Corolla Altis VL AT Petrol',\n",
       "       'Mitsubishi Pajero Sport 2.5 AT', 'Chevrolet Beat LT Petrol',\n",
       "       'BMW X1', 'Mercedes Benz C Class C 220 CDI Avantgarde',\n",
       "       'Volkswagen Vento Comfortline Diesel', 'Tata Indigo CS GLS',\n",
       "       'Ford Figo Petrol Titanium', 'Honda City ZX GXi',\n",
       "       'Maruti Suzuki Wagon R Duo Lxi', 'Maruti Suzuki Zen LX BSII',\n",
       "       'Renault Duster RxL Petrol', 'Maruti Suzuki Baleno Zeta 1.2',\n",
       "       'Honda WR V S MT Petrol', 'Renault Duster 110 PS RxL Diesel',\n",
       "       'Mahindra Scorpio LX BS III',\n",
       "       'Maruti Suzuki SX4 Celebration Diesel',\n",
       "       'Audi A3 Cabriolet 40 TFSI',\n",
       "       'I want to sell my commercial car due t',\n",
       "       'Hyundai Santro AE GLS Audio',\n",
       "       'i want sale my car.no emi....uber atta', 'Tata ZEST 6 month old',\n",
       "       'Mahindra Xylo D2 BS IV', 'Hyundai Getz GLE',\n",
       "       'Hyundai Creta 1.6 SX', 'Hyundai Santro Xing XL AT eRLX Euro III',\n",
       "       'Hyundai Santro Xing XL eRLX Euro III',\n",
       "       'Tata Indica V2 DLS BS III', 'Honda City 1.5 E MT',\n",
       "       'Nissan Micra XL', 'Honda City 1.5 S Inspire',\n",
       "       'Tata Indica eV2 eXeta eGLX', 'Maruti Suzuki Omni E 8 STR BS IV',\n",
       "       'MARUTI SUZUKI ERTIGA F', 'Hyundai Verna 1.6 CRDI SX Plus AT',\n",
       "       'Chevrolet Tavera LS B3 10 Seats BSII', 'Tata Tiago Revotron XM',\n",
       "       'Tata Tiago Revotorq XZ', 'Tata Nexon', 'Tata',\n",
       "       'Hindustan Motors Ambassador Classic Mark 4 – Befo',\n",
       "       'Ford Fusion 1.4 TDCi Diesel',\n",
       "       'Fiat Linea Emotion 1.4 L T Jet Petrol',\n",
       "       'Ford Ikon 1.3 Flair Josh 100', 'Tata Indica V2 LS',\n",
       "       'Mahindra Xylo D2', 'Hyundai Eon Magna',\n",
       "       'Tata Sumo Grande MKII GX', 'Volkswagen Polo Highline1.2L P',\n",
       "       'Tata Tiago Revotron XZ', 'Tata Indigo eCS',\n",
       "       '2012 Tata Sumo Gold f', 'Mahindra Xylo E8 BS IV',\n",
       "       'Well mentained Tata Sumo',\n",
       "       'all paper updated tata indica v2 and u',\n",
       "       'Maruti Ertiga showroom condition with',\n",
       "       '7 SEATER MAHINDRA BOLERO IN VERY GOOD', '9 SEATER MAHINDRA BOL',\n",
       "       'scratch less Tata I', 'Maruti Suzuki swift dzire for sale in',\n",
       "       'Commercial Chevrolet beat for sale in',\n",
       "       'urgent sell my Mahindra qu', 'Tata Sumo Gold FX BSIII',\n",
       "       'sell my car Maruti Suzuki Swif',\n",
       "       'Maruti Suzuki Swift Dzire good car fo', 'Hyunda',\n",
       "       'Commercial Maruti Suzuki Alto Lxi 800', 'urgent sale Ta',\n",
       "       'Maruti Suzuki Alto vxi t', 'tata', 'TATA INDI', 'Hyundai Creta',\n",
       "       'Tata Bolt XM Petrol', 'Hyundai Venue', 'Maruti Suzuki Ritz',\n",
       "       'Renault Lodgy', 'Hyundai i20 Asta',\n",
       "       'Maruti Suzuki Swift Select Variant', 'Tata Indica V2 DLX BS III',\n",
       "       'Mahindra Scorpio VLX 2.2 mHawk Airbag BSIV',\n",
       "       'Toyota Innova 2.5 E 8 STR', 'Mahindra KUV100 K8 6 STR',\n",
       "       'Datsun Go Plus', 'Ford Endeavor 4x4 Thunder Plus',\n",
       "       'Tata Indica V2', 'Hyundai Santro Xing GL',\n",
       "       'Toyota Innova 2.5 Z Diesel 7 Seater',\n",
       "       'Any type car avaiabel hare...comercica', 'Maruti Suzuki Alto AX',\n",
       "       'Mahindra Logan', 'Maruti Suzuki 800 Std BS III',\n",
       "       'Chevrolet Sail 1.2 LS',\n",
       "       'Volkswagen Vento Highline Plus 1.5 Diesel', 'Tata Manza',\n",
       "       'Toyota Innova 2.0 G1 Petrol 8seater', 'Toyota Etios G',\n",
       "       'Toyota Qualis', 'Mahindra Quanto C4', 'Maruti Suzuki Swift Dzire',\n",
       "       'Hyundai i20 Select Variant', 'Honda City VX Petrol',\n",
       "       'Hyundai Getz', 'Mercedes Benz C Class 200 K MT', 'Skoda Fabia',\n",
       "       'Maruti Suzuki Alto 800 Select Variant',\n",
       "       'Maruti Suzuki Ritz VXI ABS', 'tata zest 2017 f',\n",
       "       'Tata Indica V2 DLE BS III', 'Ta', 'Tata Zest XM Diesel',\n",
       "       'Honda Amaze 1.2 E i VTEC', 'Chevrolet Sail 1.2 LT ABS'],\n",
       "      dtype=object)"
      ]
     },
     "execution_count": 5,
     "metadata": {},
     "output_type": "execute_result"
    }
   ],
   "source": [
    "car['name'].unique()"
   ]
  },
  {
   "cell_type": "markdown",
   "id": "6148117c",
   "metadata": {},
   "source": [
    "##Cleaning\n"
   ]
  },
  {
   "cell_type": "code",
   "execution_count": 6,
   "id": "e46ba2a7",
   "metadata": {},
   "outputs": [],
   "source": [
    "backup=car.copy()"
   ]
  },
  {
   "cell_type": "code",
   "execution_count": 7,
   "id": "b1e9f472",
   "metadata": {},
   "outputs": [],
   "source": [
    "car=car[car['year'].str.isnumeric()] "
   ]
  },
  {
   "cell_type": "code",
   "execution_count": 8,
   "id": "352f1d4a",
   "metadata": {},
   "outputs": [],
   "source": [
    "car['year'] =car['year'].astype(int)   #convert into integer"
   ]
  },
  {
   "cell_type": "code",
   "execution_count": 9,
   "id": "e6156cf2",
   "metadata": {},
   "outputs": [],
   "source": [
    "car=car[car['Price']!=\"Ask For Price\"]\n"
   ]
  },
  {
   "cell_type": "code",
   "execution_count": 10,
   "id": "ef59fccd",
   "metadata": {},
   "outputs": [],
   "source": [
    "car['Price']=car['Price'].str.replace(',', \"\").astype(int)"
   ]
  },
  {
   "cell_type": "code",
   "execution_count": 11,
   "id": "a66a7801",
   "metadata": {},
   "outputs": [
    {
     "name": "stdout",
     "output_type": "stream",
     "text": [
      "<class 'pandas.core.frame.DataFrame'>\n",
      "Int64Index: 819 entries, 0 to 891\n",
      "Data columns (total 6 columns):\n",
      " #   Column      Non-Null Count  Dtype \n",
      "---  ------      --------------  ----- \n",
      " 0   name        819 non-null    object\n",
      " 1   company     819 non-null    object\n",
      " 2   year        819 non-null    int32 \n",
      " 3   Price       819 non-null    int32 \n",
      " 4   kms_driven  819 non-null    object\n",
      " 5   fuel_type   816 non-null    object\n",
      "dtypes: int32(2), object(4)\n",
      "memory usage: 38.4+ KB\n"
     ]
    }
   ],
   "source": [
    "car.info()"
   ]
  },
  {
   "cell_type": "code",
   "execution_count": 12,
   "id": "fc92c163",
   "metadata": {},
   "outputs": [],
   "source": [
    "car['kms_driven']=car['kms_driven'].str.split().str.get(0).str.replace(',','')"
   ]
  },
  {
   "cell_type": "code",
   "execution_count": 13,
   "id": "9d15dd5a",
   "metadata": {},
   "outputs": [],
   "source": [
    "car=car[car['kms_driven'].str.isnumeric()]"
   ]
  },
  {
   "cell_type": "code",
   "execution_count": 14,
   "id": "7db44837",
   "metadata": {},
   "outputs": [],
   "source": [
    "car['kms_driven']=car['kms_driven'].astype(int)"
   ]
  },
  {
   "cell_type": "code",
   "execution_count": 15,
   "id": "bab9a348",
   "metadata": {},
   "outputs": [
    {
     "name": "stdout",
     "output_type": "stream",
     "text": [
      "<class 'pandas.core.frame.DataFrame'>\n",
      "Int64Index: 817 entries, 0 to 889\n",
      "Data columns (total 6 columns):\n",
      " #   Column      Non-Null Count  Dtype \n",
      "---  ------      --------------  ----- \n",
      " 0   name        817 non-null    object\n",
      " 1   company     817 non-null    object\n",
      " 2   year        817 non-null    int32 \n",
      " 3   Price       817 non-null    int32 \n",
      " 4   kms_driven  817 non-null    int32 \n",
      " 5   fuel_type   816 non-null    object\n",
      "dtypes: int32(3), object(3)\n",
      "memory usage: 35.1+ KB\n"
     ]
    }
   ],
   "source": [
    "car.info()"
   ]
  },
  {
   "cell_type": "code",
   "execution_count": 16,
   "id": "990d3940",
   "metadata": {},
   "outputs": [],
   "source": [
    "car=car[~car['fuel_type'].isna()]"
   ]
  },
  {
   "cell_type": "code",
   "execution_count": 17,
   "id": "c63f488b",
   "metadata": {},
   "outputs": [
    {
     "name": "stdout",
     "output_type": "stream",
     "text": [
      "<class 'pandas.core.frame.DataFrame'>\n",
      "Int64Index: 816 entries, 0 to 889\n",
      "Data columns (total 6 columns):\n",
      " #   Column      Non-Null Count  Dtype \n",
      "---  ------      --------------  ----- \n",
      " 0   name        816 non-null    object\n",
      " 1   company     816 non-null    object\n",
      " 2   year        816 non-null    int32 \n",
      " 3   Price       816 non-null    int32 \n",
      " 4   kms_driven  816 non-null    int32 \n",
      " 5   fuel_type   816 non-null    object\n",
      "dtypes: int32(3), object(3)\n",
      "memory usage: 35.1+ KB\n"
     ]
    }
   ],
   "source": [
    "car.info()"
   ]
  },
  {
   "cell_type": "code",
   "execution_count": 18,
   "id": "5dd338fb",
   "metadata": {},
   "outputs": [],
   "source": [
    "car['name']=car['name'].str.split(' ').str.slice(0,3).str.join(' ')"
   ]
  },
  {
   "cell_type": "code",
   "execution_count": 19,
   "id": "f6ac2964",
   "metadata": {},
   "outputs": [],
   "source": [
    "car=car.reset_index( drop=True)"
   ]
  },
  {
   "cell_type": "code",
   "execution_count": 20,
   "id": "6c6da0dd",
   "metadata": {},
   "outputs": [
    {
     "data": {
      "text/html": [
       "<div>\n",
       "<style scoped>\n",
       "    .dataframe tbody tr th:only-of-type {\n",
       "        vertical-align: middle;\n",
       "    }\n",
       "\n",
       "    .dataframe tbody tr th {\n",
       "        vertical-align: top;\n",
       "    }\n",
       "\n",
       "    .dataframe thead th {\n",
       "        text-align: right;\n",
       "    }\n",
       "</style>\n",
       "<table border=\"1\" class=\"dataframe\">\n",
       "  <thead>\n",
       "    <tr style=\"text-align: right;\">\n",
       "      <th></th>\n",
       "      <th>year</th>\n",
       "      <th>Price</th>\n",
       "      <th>kms_driven</th>\n",
       "    </tr>\n",
       "  </thead>\n",
       "  <tbody>\n",
       "    <tr>\n",
       "      <th>count</th>\n",
       "      <td>816.000000</td>\n",
       "      <td>8.160000e+02</td>\n",
       "      <td>816.000000</td>\n",
       "    </tr>\n",
       "    <tr>\n",
       "      <th>mean</th>\n",
       "      <td>2012.444853</td>\n",
       "      <td>4.117176e+05</td>\n",
       "      <td>46275.531863</td>\n",
       "    </tr>\n",
       "    <tr>\n",
       "      <th>std</th>\n",
       "      <td>4.002992</td>\n",
       "      <td>4.751844e+05</td>\n",
       "      <td>34297.428044</td>\n",
       "    </tr>\n",
       "    <tr>\n",
       "      <th>min</th>\n",
       "      <td>1995.000000</td>\n",
       "      <td>3.000000e+04</td>\n",
       "      <td>0.000000</td>\n",
       "    </tr>\n",
       "    <tr>\n",
       "      <th>25%</th>\n",
       "      <td>2010.000000</td>\n",
       "      <td>1.750000e+05</td>\n",
       "      <td>27000.000000</td>\n",
       "    </tr>\n",
       "    <tr>\n",
       "      <th>50%</th>\n",
       "      <td>2013.000000</td>\n",
       "      <td>2.999990e+05</td>\n",
       "      <td>41000.000000</td>\n",
       "    </tr>\n",
       "    <tr>\n",
       "      <th>75%</th>\n",
       "      <td>2015.000000</td>\n",
       "      <td>4.912500e+05</td>\n",
       "      <td>56818.500000</td>\n",
       "    </tr>\n",
       "    <tr>\n",
       "      <th>max</th>\n",
       "      <td>2019.000000</td>\n",
       "      <td>8.500003e+06</td>\n",
       "      <td>400000.000000</td>\n",
       "    </tr>\n",
       "  </tbody>\n",
       "</table>\n",
       "</div>"
      ],
      "text/plain": [
       "              year         Price     kms_driven\n",
       "count   816.000000  8.160000e+02     816.000000\n",
       "mean   2012.444853  4.117176e+05   46275.531863\n",
       "std       4.002992  4.751844e+05   34297.428044\n",
       "min    1995.000000  3.000000e+04       0.000000\n",
       "25%    2010.000000  1.750000e+05   27000.000000\n",
       "50%    2013.000000  2.999990e+05   41000.000000\n",
       "75%    2015.000000  4.912500e+05   56818.500000\n",
       "max    2019.000000  8.500003e+06  400000.000000"
      ]
     },
     "execution_count": 20,
     "metadata": {},
     "output_type": "execute_result"
    }
   ],
   "source": [
    "car.describe()"
   ]
  },
  {
   "cell_type": "code",
   "execution_count": 21,
   "id": "2914be00",
   "metadata": {},
   "outputs": [],
   "source": [
    "car=car[car['Price']<6e6].reset_index(drop=True)"
   ]
  },
  {
   "cell_type": "code",
   "execution_count": 22,
   "id": "80f796b0",
   "metadata": {},
   "outputs": [
    {
     "data": {
      "text/html": [
       "<div>\n",
       "<style scoped>\n",
       "    .dataframe tbody tr th:only-of-type {\n",
       "        vertical-align: middle;\n",
       "    }\n",
       "\n",
       "    .dataframe tbody tr th {\n",
       "        vertical-align: top;\n",
       "    }\n",
       "\n",
       "    .dataframe thead th {\n",
       "        text-align: right;\n",
       "    }\n",
       "</style>\n",
       "<table border=\"1\" class=\"dataframe\">\n",
       "  <thead>\n",
       "    <tr style=\"text-align: right;\">\n",
       "      <th></th>\n",
       "      <th>year</th>\n",
       "      <th>Price</th>\n",
       "      <th>kms_driven</th>\n",
       "    </tr>\n",
       "  </thead>\n",
       "  <tbody>\n",
       "    <tr>\n",
       "      <th>count</th>\n",
       "      <td>815.000000</td>\n",
       "      <td>8.150000e+02</td>\n",
       "      <td>815.000000</td>\n",
       "    </tr>\n",
       "    <tr>\n",
       "      <th>mean</th>\n",
       "      <td>2012.442945</td>\n",
       "      <td>4.017933e+05</td>\n",
       "      <td>46277.096933</td>\n",
       "    </tr>\n",
       "    <tr>\n",
       "      <th>std</th>\n",
       "      <td>4.005079</td>\n",
       "      <td>3.815888e+05</td>\n",
       "      <td>34318.459638</td>\n",
       "    </tr>\n",
       "    <tr>\n",
       "      <th>min</th>\n",
       "      <td>1995.000000</td>\n",
       "      <td>3.000000e+04</td>\n",
       "      <td>0.000000</td>\n",
       "    </tr>\n",
       "    <tr>\n",
       "      <th>25%</th>\n",
       "      <td>2010.000000</td>\n",
       "      <td>1.750000e+05</td>\n",
       "      <td>27000.000000</td>\n",
       "    </tr>\n",
       "    <tr>\n",
       "      <th>50%</th>\n",
       "      <td>2013.000000</td>\n",
       "      <td>2.999990e+05</td>\n",
       "      <td>41000.000000</td>\n",
       "    </tr>\n",
       "    <tr>\n",
       "      <th>75%</th>\n",
       "      <td>2015.000000</td>\n",
       "      <td>4.900000e+05</td>\n",
       "      <td>56879.000000</td>\n",
       "    </tr>\n",
       "    <tr>\n",
       "      <th>max</th>\n",
       "      <td>2019.000000</td>\n",
       "      <td>3.100000e+06</td>\n",
       "      <td>400000.000000</td>\n",
       "    </tr>\n",
       "  </tbody>\n",
       "</table>\n",
       "</div>"
      ],
      "text/plain": [
       "              year         Price     kms_driven\n",
       "count   815.000000  8.150000e+02     815.000000\n",
       "mean   2012.442945  4.017933e+05   46277.096933\n",
       "std       4.005079  3.815888e+05   34318.459638\n",
       "min    1995.000000  3.000000e+04       0.000000\n",
       "25%    2010.000000  1.750000e+05   27000.000000\n",
       "50%    2013.000000  2.999990e+05   41000.000000\n",
       "75%    2015.000000  4.900000e+05   56879.000000\n",
       "max    2019.000000  3.100000e+06  400000.000000"
      ]
     },
     "execution_count": 22,
     "metadata": {},
     "output_type": "execute_result"
    }
   ],
   "source": [
    "car.describe()"
   ]
  },
  {
   "cell_type": "code",
   "execution_count": 23,
   "id": "da865e16",
   "metadata": {},
   "outputs": [],
   "source": [
    "car.to_csv('clean car.csv')"
   ]
  },
  {
   "cell_type": "markdown",
   "id": "a95c6334",
   "metadata": {},
   "source": [
    "# model"
   ]
  },
  {
   "cell_type": "code",
   "execution_count": 24,
   "id": "fff25c26",
   "metadata": {},
   "outputs": [],
   "source": [
    "x=car.drop(columns=\"Price\")\n",
    "y=car['Price']"
   ]
  },
  {
   "cell_type": "code",
   "execution_count": 25,
   "id": "08384d71",
   "metadata": {},
   "outputs": [
    {
     "data": {
      "text/html": [
       "<div>\n",
       "<style scoped>\n",
       "    .dataframe tbody tr th:only-of-type {\n",
       "        vertical-align: middle;\n",
       "    }\n",
       "\n",
       "    .dataframe tbody tr th {\n",
       "        vertical-align: top;\n",
       "    }\n",
       "\n",
       "    .dataframe thead th {\n",
       "        text-align: right;\n",
       "    }\n",
       "</style>\n",
       "<table border=\"1\" class=\"dataframe\">\n",
       "  <thead>\n",
       "    <tr style=\"text-align: right;\">\n",
       "      <th></th>\n",
       "      <th>name</th>\n",
       "      <th>company</th>\n",
       "      <th>year</th>\n",
       "      <th>kms_driven</th>\n",
       "      <th>fuel_type</th>\n",
       "    </tr>\n",
       "  </thead>\n",
       "  <tbody>\n",
       "    <tr>\n",
       "      <th>0</th>\n",
       "      <td>Hyundai Santro Xing</td>\n",
       "      <td>Hyundai</td>\n",
       "      <td>2007</td>\n",
       "      <td>45000</td>\n",
       "      <td>Petrol</td>\n",
       "    </tr>\n",
       "    <tr>\n",
       "      <th>1</th>\n",
       "      <td>Mahindra Jeep CL550</td>\n",
       "      <td>Mahindra</td>\n",
       "      <td>2006</td>\n",
       "      <td>40</td>\n",
       "      <td>Diesel</td>\n",
       "    </tr>\n",
       "    <tr>\n",
       "      <th>2</th>\n",
       "      <td>Hyundai Grand i10</td>\n",
       "      <td>Hyundai</td>\n",
       "      <td>2014</td>\n",
       "      <td>28000</td>\n",
       "      <td>Petrol</td>\n",
       "    </tr>\n",
       "    <tr>\n",
       "      <th>3</th>\n",
       "      <td>Ford EcoSport Titanium</td>\n",
       "      <td>Ford</td>\n",
       "      <td>2014</td>\n",
       "      <td>36000</td>\n",
       "      <td>Diesel</td>\n",
       "    </tr>\n",
       "    <tr>\n",
       "      <th>4</th>\n",
       "      <td>Ford Figo</td>\n",
       "      <td>Ford</td>\n",
       "      <td>2012</td>\n",
       "      <td>41000</td>\n",
       "      <td>Diesel</td>\n",
       "    </tr>\n",
       "    <tr>\n",
       "      <th>...</th>\n",
       "      <td>...</td>\n",
       "      <td>...</td>\n",
       "      <td>...</td>\n",
       "      <td>...</td>\n",
       "      <td>...</td>\n",
       "    </tr>\n",
       "    <tr>\n",
       "      <th>810</th>\n",
       "      <td>Maruti Suzuki Ritz</td>\n",
       "      <td>Maruti</td>\n",
       "      <td>2011</td>\n",
       "      <td>50000</td>\n",
       "      <td>Petrol</td>\n",
       "    </tr>\n",
       "    <tr>\n",
       "      <th>811</th>\n",
       "      <td>Tata Indica V2</td>\n",
       "      <td>Tata</td>\n",
       "      <td>2009</td>\n",
       "      <td>30000</td>\n",
       "      <td>Diesel</td>\n",
       "    </tr>\n",
       "    <tr>\n",
       "      <th>812</th>\n",
       "      <td>Toyota Corolla Altis</td>\n",
       "      <td>Toyota</td>\n",
       "      <td>2009</td>\n",
       "      <td>132000</td>\n",
       "      <td>Petrol</td>\n",
       "    </tr>\n",
       "    <tr>\n",
       "      <th>813</th>\n",
       "      <td>Tata Zest XM</td>\n",
       "      <td>Tata</td>\n",
       "      <td>2018</td>\n",
       "      <td>27000</td>\n",
       "      <td>Diesel</td>\n",
       "    </tr>\n",
       "    <tr>\n",
       "      <th>814</th>\n",
       "      <td>Mahindra Quanto C8</td>\n",
       "      <td>Mahindra</td>\n",
       "      <td>2013</td>\n",
       "      <td>40000</td>\n",
       "      <td>Diesel</td>\n",
       "    </tr>\n",
       "  </tbody>\n",
       "</table>\n",
       "<p>815 rows × 5 columns</p>\n",
       "</div>"
      ],
      "text/plain": [
       "                       name   company  year  kms_driven fuel_type\n",
       "0       Hyundai Santro Xing   Hyundai  2007       45000    Petrol\n",
       "1       Mahindra Jeep CL550  Mahindra  2006          40    Diesel\n",
       "2         Hyundai Grand i10   Hyundai  2014       28000    Petrol\n",
       "3    Ford EcoSport Titanium      Ford  2014       36000    Diesel\n",
       "4                 Ford Figo      Ford  2012       41000    Diesel\n",
       "..                      ...       ...   ...         ...       ...\n",
       "810      Maruti Suzuki Ritz    Maruti  2011       50000    Petrol\n",
       "811          Tata Indica V2      Tata  2009       30000    Diesel\n",
       "812    Toyota Corolla Altis    Toyota  2009      132000    Petrol\n",
       "813            Tata Zest XM      Tata  2018       27000    Diesel\n",
       "814      Mahindra Quanto C8  Mahindra  2013       40000    Diesel\n",
       "\n",
       "[815 rows x 5 columns]"
      ]
     },
     "execution_count": 25,
     "metadata": {},
     "output_type": "execute_result"
    }
   ],
   "source": [
    "x"
   ]
  },
  {
   "cell_type": "code",
   "execution_count": 26,
   "id": "c9e7c17f",
   "metadata": {},
   "outputs": [
    {
     "data": {
      "text/plain": [
       "0       80000\n",
       "1      425000\n",
       "2      325000\n",
       "3      575000\n",
       "4      175000\n",
       "        ...  \n",
       "810    270000\n",
       "811    110000\n",
       "812    300000\n",
       "813    260000\n",
       "814    390000\n",
       "Name: Price, Length: 815, dtype: int32"
      ]
     },
     "execution_count": 26,
     "metadata": {},
     "output_type": "execute_result"
    }
   ],
   "source": [
    "y"
   ]
  },
  {
   "cell_type": "code",
   "execution_count": 27,
   "id": "52c50dfd",
   "metadata": {},
   "outputs": [],
   "source": [
    "from sklearn.model_selection import train_test_split\n",
    "X_train,X_test,y_train,y_test=train_test_split(x,y,test_size=0.1)"
   ]
  },
  {
   "cell_type": "code",
   "execution_count": 28,
   "id": "2772c205",
   "metadata": {},
   "outputs": [],
   "source": [
    "from sklearn.linear_model import LinearRegression\n",
    "from sklearn.metrics import r2_score\n",
    "from sklearn.preprocessing import OneHotEncoder\n",
    "from sklearn.compose import make_column_transformer\n",
    "from sklearn.pipeline import make_pipeline"
   ]
  },
  {
   "cell_type": "code",
   "execution_count": 29,
   "id": "8afc91ae",
   "metadata": {},
   "outputs": [
    {
     "data": {
      "text/html": [
       "<style>#sk-container-id-1 {color: black;background-color: white;}#sk-container-id-1 pre{padding: 0;}#sk-container-id-1 div.sk-toggleable {background-color: white;}#sk-container-id-1 label.sk-toggleable__label {cursor: pointer;display: block;width: 100%;margin-bottom: 0;padding: 0.3em;box-sizing: border-box;text-align: center;}#sk-container-id-1 label.sk-toggleable__label-arrow:before {content: \"▸\";float: left;margin-right: 0.25em;color: #696969;}#sk-container-id-1 label.sk-toggleable__label-arrow:hover:before {color: black;}#sk-container-id-1 div.sk-estimator:hover label.sk-toggleable__label-arrow:before {color: black;}#sk-container-id-1 div.sk-toggleable__content {max-height: 0;max-width: 0;overflow: hidden;text-align: left;background-color: #f0f8ff;}#sk-container-id-1 div.sk-toggleable__content pre {margin: 0.2em;color: black;border-radius: 0.25em;background-color: #f0f8ff;}#sk-container-id-1 input.sk-toggleable__control:checked~div.sk-toggleable__content {max-height: 200px;max-width: 100%;overflow: auto;}#sk-container-id-1 input.sk-toggleable__control:checked~label.sk-toggleable__label-arrow:before {content: \"▾\";}#sk-container-id-1 div.sk-estimator input.sk-toggleable__control:checked~label.sk-toggleable__label {background-color: #d4ebff;}#sk-container-id-1 div.sk-label input.sk-toggleable__control:checked~label.sk-toggleable__label {background-color: #d4ebff;}#sk-container-id-1 input.sk-hidden--visually {border: 0;clip: rect(1px 1px 1px 1px);clip: rect(1px, 1px, 1px, 1px);height: 1px;margin: -1px;overflow: hidden;padding: 0;position: absolute;width: 1px;}#sk-container-id-1 div.sk-estimator {font-family: monospace;background-color: #f0f8ff;border: 1px dotted black;border-radius: 0.25em;box-sizing: border-box;margin-bottom: 0.5em;}#sk-container-id-1 div.sk-estimator:hover {background-color: #d4ebff;}#sk-container-id-1 div.sk-parallel-item::after {content: \"\";width: 100%;border-bottom: 1px solid gray;flex-grow: 1;}#sk-container-id-1 div.sk-label:hover label.sk-toggleable__label {background-color: #d4ebff;}#sk-container-id-1 div.sk-serial::before {content: \"\";position: absolute;border-left: 1px solid gray;box-sizing: border-box;top: 0;bottom: 0;left: 50%;z-index: 0;}#sk-container-id-1 div.sk-serial {display: flex;flex-direction: column;align-items: center;background-color: white;padding-right: 0.2em;padding-left: 0.2em;position: relative;}#sk-container-id-1 div.sk-item {position: relative;z-index: 1;}#sk-container-id-1 div.sk-parallel {display: flex;align-items: stretch;justify-content: center;background-color: white;position: relative;}#sk-container-id-1 div.sk-item::before, #sk-container-id-1 div.sk-parallel-item::before {content: \"\";position: absolute;border-left: 1px solid gray;box-sizing: border-box;top: 0;bottom: 0;left: 50%;z-index: -1;}#sk-container-id-1 div.sk-parallel-item {display: flex;flex-direction: column;z-index: 1;position: relative;background-color: white;}#sk-container-id-1 div.sk-parallel-item:first-child::after {align-self: flex-end;width: 50%;}#sk-container-id-1 div.sk-parallel-item:last-child::after {align-self: flex-start;width: 50%;}#sk-container-id-1 div.sk-parallel-item:only-child::after {width: 0;}#sk-container-id-1 div.sk-dashed-wrapped {border: 1px dashed gray;margin: 0 0.4em 0.5em 0.4em;box-sizing: border-box;padding-bottom: 0.4em;background-color: white;}#sk-container-id-1 div.sk-label label {font-family: monospace;font-weight: bold;display: inline-block;line-height: 1.2em;}#sk-container-id-1 div.sk-label-container {text-align: center;}#sk-container-id-1 div.sk-container {/* jupyter's `normalize.less` sets `[hidden] { display: none; }` but bootstrap.min.css set `[hidden] { display: none !important; }` so we also need the `!important` here to be able to override the default hidden behavior on the sphinx rendered scikit-learn.org. See: https://github.com/scikit-learn/scikit-learn/issues/21755 */display: inline-block !important;position: relative;}#sk-container-id-1 div.sk-text-repr-fallback {display: none;}</style><div id=\"sk-container-id-1\" class=\"sk-top-container\"><div class=\"sk-text-repr-fallback\"><pre>OneHotEncoder()</pre><b>In a Jupyter environment, please rerun this cell to show the HTML representation or trust the notebook. <br />On GitHub, the HTML representation is unable to render, please try loading this page with nbviewer.org.</b></div><div class=\"sk-container\" hidden><div class=\"sk-item\"><div class=\"sk-estimator sk-toggleable\"><input class=\"sk-toggleable__control sk-hidden--visually\" id=\"sk-estimator-id-1\" type=\"checkbox\" checked><label for=\"sk-estimator-id-1\" class=\"sk-toggleable__label sk-toggleable__label-arrow\">OneHotEncoder</label><div class=\"sk-toggleable__content\"><pre>OneHotEncoder()</pre></div></div></div></div></div>"
      ],
      "text/plain": [
       "OneHotEncoder()"
      ]
     },
     "execution_count": 29,
     "metadata": {},
     "output_type": "execute_result"
    }
   ],
   "source": [
    "ohe=OneHotEncoder()\n",
    "ohe.fit(x[['name','company','fuel_type']])"
   ]
  },
  {
   "cell_type": "code",
   "execution_count": 30,
   "id": "750a5e75",
   "metadata": {},
   "outputs": [],
   "source": [
    "column_trans =make_column_transformer((OneHotEncoder(categories=ohe.categories_),['name','company','fuel_type']),\n",
    "                                      \n",
    "                                     remainder='passthrough')"
   ]
  },
  {
   "cell_type": "code",
   "execution_count": 31,
   "id": "30f25c2c",
   "metadata": {},
   "outputs": [],
   "source": [
    "lr=LinearRegression()"
   ]
  },
  {
   "cell_type": "code",
   "execution_count": 32,
   "id": "bc1300f3",
   "metadata": {},
   "outputs": [],
   "source": [
    "pipe=make_pipeline(column_trans,lr)"
   ]
  },
  {
   "cell_type": "code",
   "execution_count": 33,
   "id": "52287a58",
   "metadata": {},
   "outputs": [
    {
     "data": {
      "text/html": [
       "<style>#sk-container-id-2 {color: black;background-color: white;}#sk-container-id-2 pre{padding: 0;}#sk-container-id-2 div.sk-toggleable {background-color: white;}#sk-container-id-2 label.sk-toggleable__label {cursor: pointer;display: block;width: 100%;margin-bottom: 0;padding: 0.3em;box-sizing: border-box;text-align: center;}#sk-container-id-2 label.sk-toggleable__label-arrow:before {content: \"▸\";float: left;margin-right: 0.25em;color: #696969;}#sk-container-id-2 label.sk-toggleable__label-arrow:hover:before {color: black;}#sk-container-id-2 div.sk-estimator:hover label.sk-toggleable__label-arrow:before {color: black;}#sk-container-id-2 div.sk-toggleable__content {max-height: 0;max-width: 0;overflow: hidden;text-align: left;background-color: #f0f8ff;}#sk-container-id-2 div.sk-toggleable__content pre {margin: 0.2em;color: black;border-radius: 0.25em;background-color: #f0f8ff;}#sk-container-id-2 input.sk-toggleable__control:checked~div.sk-toggleable__content {max-height: 200px;max-width: 100%;overflow: auto;}#sk-container-id-2 input.sk-toggleable__control:checked~label.sk-toggleable__label-arrow:before {content: \"▾\";}#sk-container-id-2 div.sk-estimator input.sk-toggleable__control:checked~label.sk-toggleable__label {background-color: #d4ebff;}#sk-container-id-2 div.sk-label input.sk-toggleable__control:checked~label.sk-toggleable__label {background-color: #d4ebff;}#sk-container-id-2 input.sk-hidden--visually {border: 0;clip: rect(1px 1px 1px 1px);clip: rect(1px, 1px, 1px, 1px);height: 1px;margin: -1px;overflow: hidden;padding: 0;position: absolute;width: 1px;}#sk-container-id-2 div.sk-estimator {font-family: monospace;background-color: #f0f8ff;border: 1px dotted black;border-radius: 0.25em;box-sizing: border-box;margin-bottom: 0.5em;}#sk-container-id-2 div.sk-estimator:hover {background-color: #d4ebff;}#sk-container-id-2 div.sk-parallel-item::after {content: \"\";width: 100%;border-bottom: 1px solid gray;flex-grow: 1;}#sk-container-id-2 div.sk-label:hover label.sk-toggleable__label {background-color: #d4ebff;}#sk-container-id-2 div.sk-serial::before {content: \"\";position: absolute;border-left: 1px solid gray;box-sizing: border-box;top: 0;bottom: 0;left: 50%;z-index: 0;}#sk-container-id-2 div.sk-serial {display: flex;flex-direction: column;align-items: center;background-color: white;padding-right: 0.2em;padding-left: 0.2em;position: relative;}#sk-container-id-2 div.sk-item {position: relative;z-index: 1;}#sk-container-id-2 div.sk-parallel {display: flex;align-items: stretch;justify-content: center;background-color: white;position: relative;}#sk-container-id-2 div.sk-item::before, #sk-container-id-2 div.sk-parallel-item::before {content: \"\";position: absolute;border-left: 1px solid gray;box-sizing: border-box;top: 0;bottom: 0;left: 50%;z-index: -1;}#sk-container-id-2 div.sk-parallel-item {display: flex;flex-direction: column;z-index: 1;position: relative;background-color: white;}#sk-container-id-2 div.sk-parallel-item:first-child::after {align-self: flex-end;width: 50%;}#sk-container-id-2 div.sk-parallel-item:last-child::after {align-self: flex-start;width: 50%;}#sk-container-id-2 div.sk-parallel-item:only-child::after {width: 0;}#sk-container-id-2 div.sk-dashed-wrapped {border: 1px dashed gray;margin: 0 0.4em 0.5em 0.4em;box-sizing: border-box;padding-bottom: 0.4em;background-color: white;}#sk-container-id-2 div.sk-label label {font-family: monospace;font-weight: bold;display: inline-block;line-height: 1.2em;}#sk-container-id-2 div.sk-label-container {text-align: center;}#sk-container-id-2 div.sk-container {/* jupyter's `normalize.less` sets `[hidden] { display: none; }` but bootstrap.min.css set `[hidden] { display: none !important; }` so we also need the `!important` here to be able to override the default hidden behavior on the sphinx rendered scikit-learn.org. See: https://github.com/scikit-learn/scikit-learn/issues/21755 */display: inline-block !important;position: relative;}#sk-container-id-2 div.sk-text-repr-fallback {display: none;}</style><div id=\"sk-container-id-2\" class=\"sk-top-container\"><div class=\"sk-text-repr-fallback\"><pre>Pipeline(steps=[(&#x27;columntransformer&#x27;,\n",
       "                 ColumnTransformer(remainder=&#x27;passthrough&#x27;,\n",
       "                                   transformers=[(&#x27;onehotencoder&#x27;,\n",
       "                                                  OneHotEncoder(categories=[array([&#x27;Audi A3 Cabriolet&#x27;, &#x27;Audi A4 1.8&#x27;, &#x27;Audi A4 2.0&#x27;, &#x27;Audi A6 2.0&#x27;,\n",
       "       &#x27;Audi A8&#x27;, &#x27;Audi Q3 2.0&#x27;, &#x27;Audi Q5 2.0&#x27;, &#x27;Audi Q7&#x27;, &#x27;BMW 3 Series&#x27;,\n",
       "       &#x27;BMW 5 Series&#x27;, &#x27;BMW 7 Series&#x27;, &#x27;BMW X1&#x27;, &#x27;BMW X1 sDrive20d&#x27;,\n",
       "       &#x27;BMW X1 xDrive20d&#x27;, &#x27;Chevrolet Beat&#x27;, &#x27;Chevrolet Beat...\n",
       "                                                                            array([&#x27;Audi&#x27;, &#x27;BMW&#x27;, &#x27;Chevrolet&#x27;, &#x27;Datsun&#x27;, &#x27;Fiat&#x27;, &#x27;Force&#x27;, &#x27;Ford&#x27;,\n",
       "       &#x27;Hindustan&#x27;, &#x27;Honda&#x27;, &#x27;Hyundai&#x27;, &#x27;Jaguar&#x27;, &#x27;Jeep&#x27;, &#x27;Land&#x27;,\n",
       "       &#x27;Mahindra&#x27;, &#x27;Maruti&#x27;, &#x27;Mercedes&#x27;, &#x27;Mini&#x27;, &#x27;Mitsubishi&#x27;, &#x27;Nissan&#x27;,\n",
       "       &#x27;Renault&#x27;, &#x27;Skoda&#x27;, &#x27;Tata&#x27;, &#x27;Toyota&#x27;, &#x27;Volkswagen&#x27;, &#x27;Volvo&#x27;],\n",
       "      dtype=object),\n",
       "                                                                            array([&#x27;Diesel&#x27;, &#x27;LPG&#x27;, &#x27;Petrol&#x27;], dtype=object)]),\n",
       "                                                  [&#x27;name&#x27;, &#x27;company&#x27;,\n",
       "                                                   &#x27;fuel_type&#x27;])])),\n",
       "                (&#x27;linearregression&#x27;, LinearRegression())])</pre><b>In a Jupyter environment, please rerun this cell to show the HTML representation or trust the notebook. <br />On GitHub, the HTML representation is unable to render, please try loading this page with nbviewer.org.</b></div><div class=\"sk-container\" hidden><div class=\"sk-item sk-dashed-wrapped\"><div class=\"sk-label-container\"><div class=\"sk-label sk-toggleable\"><input class=\"sk-toggleable__control sk-hidden--visually\" id=\"sk-estimator-id-2\" type=\"checkbox\" ><label for=\"sk-estimator-id-2\" class=\"sk-toggleable__label sk-toggleable__label-arrow\">Pipeline</label><div class=\"sk-toggleable__content\"><pre>Pipeline(steps=[(&#x27;columntransformer&#x27;,\n",
       "                 ColumnTransformer(remainder=&#x27;passthrough&#x27;,\n",
       "                                   transformers=[(&#x27;onehotencoder&#x27;,\n",
       "                                                  OneHotEncoder(categories=[array([&#x27;Audi A3 Cabriolet&#x27;, &#x27;Audi A4 1.8&#x27;, &#x27;Audi A4 2.0&#x27;, &#x27;Audi A6 2.0&#x27;,\n",
       "       &#x27;Audi A8&#x27;, &#x27;Audi Q3 2.0&#x27;, &#x27;Audi Q5 2.0&#x27;, &#x27;Audi Q7&#x27;, &#x27;BMW 3 Series&#x27;,\n",
       "       &#x27;BMW 5 Series&#x27;, &#x27;BMW 7 Series&#x27;, &#x27;BMW X1&#x27;, &#x27;BMW X1 sDrive20d&#x27;,\n",
       "       &#x27;BMW X1 xDrive20d&#x27;, &#x27;Chevrolet Beat&#x27;, &#x27;Chevrolet Beat...\n",
       "                                                                            array([&#x27;Audi&#x27;, &#x27;BMW&#x27;, &#x27;Chevrolet&#x27;, &#x27;Datsun&#x27;, &#x27;Fiat&#x27;, &#x27;Force&#x27;, &#x27;Ford&#x27;,\n",
       "       &#x27;Hindustan&#x27;, &#x27;Honda&#x27;, &#x27;Hyundai&#x27;, &#x27;Jaguar&#x27;, &#x27;Jeep&#x27;, &#x27;Land&#x27;,\n",
       "       &#x27;Mahindra&#x27;, &#x27;Maruti&#x27;, &#x27;Mercedes&#x27;, &#x27;Mini&#x27;, &#x27;Mitsubishi&#x27;, &#x27;Nissan&#x27;,\n",
       "       &#x27;Renault&#x27;, &#x27;Skoda&#x27;, &#x27;Tata&#x27;, &#x27;Toyota&#x27;, &#x27;Volkswagen&#x27;, &#x27;Volvo&#x27;],\n",
       "      dtype=object),\n",
       "                                                                            array([&#x27;Diesel&#x27;, &#x27;LPG&#x27;, &#x27;Petrol&#x27;], dtype=object)]),\n",
       "                                                  [&#x27;name&#x27;, &#x27;company&#x27;,\n",
       "                                                   &#x27;fuel_type&#x27;])])),\n",
       "                (&#x27;linearregression&#x27;, LinearRegression())])</pre></div></div></div><div class=\"sk-serial\"><div class=\"sk-item sk-dashed-wrapped\"><div class=\"sk-label-container\"><div class=\"sk-label sk-toggleable\"><input class=\"sk-toggleable__control sk-hidden--visually\" id=\"sk-estimator-id-3\" type=\"checkbox\" ><label for=\"sk-estimator-id-3\" class=\"sk-toggleable__label sk-toggleable__label-arrow\">columntransformer: ColumnTransformer</label><div class=\"sk-toggleable__content\"><pre>ColumnTransformer(remainder=&#x27;passthrough&#x27;,\n",
       "                  transformers=[(&#x27;onehotencoder&#x27;,\n",
       "                                 OneHotEncoder(categories=[array([&#x27;Audi A3 Cabriolet&#x27;, &#x27;Audi A4 1.8&#x27;, &#x27;Audi A4 2.0&#x27;, &#x27;Audi A6 2.0&#x27;,\n",
       "       &#x27;Audi A8&#x27;, &#x27;Audi Q3 2.0&#x27;, &#x27;Audi Q5 2.0&#x27;, &#x27;Audi Q7&#x27;, &#x27;BMW 3 Series&#x27;,\n",
       "       &#x27;BMW 5 Series&#x27;, &#x27;BMW 7 Series&#x27;, &#x27;BMW X1&#x27;, &#x27;BMW X1 sDrive20d&#x27;,\n",
       "       &#x27;BMW X1 xDrive20d&#x27;, &#x27;Chevrolet Beat&#x27;, &#x27;Chevrolet Beat Diesel&#x27;,\n",
       "       &#x27;Chevrolet Beat LS&#x27;, &#x27;Chevrolet B...\n",
       "       &#x27;Volkswagen Vento Konekt&#x27;, &#x27;Volvo S80 Summum&#x27;], dtype=object),\n",
       "                                                           array([&#x27;Audi&#x27;, &#x27;BMW&#x27;, &#x27;Chevrolet&#x27;, &#x27;Datsun&#x27;, &#x27;Fiat&#x27;, &#x27;Force&#x27;, &#x27;Ford&#x27;,\n",
       "       &#x27;Hindustan&#x27;, &#x27;Honda&#x27;, &#x27;Hyundai&#x27;, &#x27;Jaguar&#x27;, &#x27;Jeep&#x27;, &#x27;Land&#x27;,\n",
       "       &#x27;Mahindra&#x27;, &#x27;Maruti&#x27;, &#x27;Mercedes&#x27;, &#x27;Mini&#x27;, &#x27;Mitsubishi&#x27;, &#x27;Nissan&#x27;,\n",
       "       &#x27;Renault&#x27;, &#x27;Skoda&#x27;, &#x27;Tata&#x27;, &#x27;Toyota&#x27;, &#x27;Volkswagen&#x27;, &#x27;Volvo&#x27;],\n",
       "      dtype=object),\n",
       "                                                           array([&#x27;Diesel&#x27;, &#x27;LPG&#x27;, &#x27;Petrol&#x27;], dtype=object)]),\n",
       "                                 [&#x27;name&#x27;, &#x27;company&#x27;, &#x27;fuel_type&#x27;])])</pre></div></div></div><div class=\"sk-parallel\"><div class=\"sk-parallel-item\"><div class=\"sk-item\"><div class=\"sk-label-container\"><div class=\"sk-label sk-toggleable\"><input class=\"sk-toggleable__control sk-hidden--visually\" id=\"sk-estimator-id-4\" type=\"checkbox\" ><label for=\"sk-estimator-id-4\" class=\"sk-toggleable__label sk-toggleable__label-arrow\">onehotencoder</label><div class=\"sk-toggleable__content\"><pre>[&#x27;name&#x27;, &#x27;company&#x27;, &#x27;fuel_type&#x27;]</pre></div></div></div><div class=\"sk-serial\"><div class=\"sk-item\"><div class=\"sk-estimator sk-toggleable\"><input class=\"sk-toggleable__control sk-hidden--visually\" id=\"sk-estimator-id-5\" type=\"checkbox\" ><label for=\"sk-estimator-id-5\" class=\"sk-toggleable__label sk-toggleable__label-arrow\">OneHotEncoder</label><div class=\"sk-toggleable__content\"><pre>OneHotEncoder(categories=[array([&#x27;Audi A3 Cabriolet&#x27;, &#x27;Audi A4 1.8&#x27;, &#x27;Audi A4 2.0&#x27;, &#x27;Audi A6 2.0&#x27;,\n",
       "       &#x27;Audi A8&#x27;, &#x27;Audi Q3 2.0&#x27;, &#x27;Audi Q5 2.0&#x27;, &#x27;Audi Q7&#x27;, &#x27;BMW 3 Series&#x27;,\n",
       "       &#x27;BMW 5 Series&#x27;, &#x27;BMW 7 Series&#x27;, &#x27;BMW X1&#x27;, &#x27;BMW X1 sDrive20d&#x27;,\n",
       "       &#x27;BMW X1 xDrive20d&#x27;, &#x27;Chevrolet Beat&#x27;, &#x27;Chevrolet Beat Diesel&#x27;,\n",
       "       &#x27;Chevrolet Beat LS&#x27;, &#x27;Chevrolet Beat LT&#x27;, &#x27;Chevrolet Beat PS&#x27;,\n",
       "       &#x27;Chevrolet Cruze LTZ&#x27;, &#x27;Chevrolet Enjoy&#x27;, &#x27;Chevrolet E...\n",
       "       &#x27;Volkswagen Vento Comfortline&#x27;, &#x27;Volkswagen Vento Highline&#x27;,\n",
       "       &#x27;Volkswagen Vento Konekt&#x27;, &#x27;Volvo S80 Summum&#x27;], dtype=object),\n",
       "                          array([&#x27;Audi&#x27;, &#x27;BMW&#x27;, &#x27;Chevrolet&#x27;, &#x27;Datsun&#x27;, &#x27;Fiat&#x27;, &#x27;Force&#x27;, &#x27;Ford&#x27;,\n",
       "       &#x27;Hindustan&#x27;, &#x27;Honda&#x27;, &#x27;Hyundai&#x27;, &#x27;Jaguar&#x27;, &#x27;Jeep&#x27;, &#x27;Land&#x27;,\n",
       "       &#x27;Mahindra&#x27;, &#x27;Maruti&#x27;, &#x27;Mercedes&#x27;, &#x27;Mini&#x27;, &#x27;Mitsubishi&#x27;, &#x27;Nissan&#x27;,\n",
       "       &#x27;Renault&#x27;, &#x27;Skoda&#x27;, &#x27;Tata&#x27;, &#x27;Toyota&#x27;, &#x27;Volkswagen&#x27;, &#x27;Volvo&#x27;],\n",
       "      dtype=object),\n",
       "                          array([&#x27;Diesel&#x27;, &#x27;LPG&#x27;, &#x27;Petrol&#x27;], dtype=object)])</pre></div></div></div></div></div></div><div class=\"sk-parallel-item\"><div class=\"sk-item\"><div class=\"sk-label-container\"><div class=\"sk-label sk-toggleable\"><input class=\"sk-toggleable__control sk-hidden--visually\" id=\"sk-estimator-id-6\" type=\"checkbox\" ><label for=\"sk-estimator-id-6\" class=\"sk-toggleable__label sk-toggleable__label-arrow\">remainder</label><div class=\"sk-toggleable__content\"><pre>[&#x27;year&#x27;, &#x27;kms_driven&#x27;]</pre></div></div></div><div class=\"sk-serial\"><div class=\"sk-item\"><div class=\"sk-estimator sk-toggleable\"><input class=\"sk-toggleable__control sk-hidden--visually\" id=\"sk-estimator-id-7\" type=\"checkbox\" ><label for=\"sk-estimator-id-7\" class=\"sk-toggleable__label sk-toggleable__label-arrow\">passthrough</label><div class=\"sk-toggleable__content\"><pre>passthrough</pre></div></div></div></div></div></div></div></div><div class=\"sk-item\"><div class=\"sk-estimator sk-toggleable\"><input class=\"sk-toggleable__control sk-hidden--visually\" id=\"sk-estimator-id-8\" type=\"checkbox\" ><label for=\"sk-estimator-id-8\" class=\"sk-toggleable__label sk-toggleable__label-arrow\">LinearRegression</label><div class=\"sk-toggleable__content\"><pre>LinearRegression()</pre></div></div></div></div></div></div></div>"
      ],
      "text/plain": [
       "Pipeline(steps=[('columntransformer',\n",
       "                 ColumnTransformer(remainder='passthrough',\n",
       "                                   transformers=[('onehotencoder',\n",
       "                                                  OneHotEncoder(categories=[array(['Audi A3 Cabriolet', 'Audi A4 1.8', 'Audi A4 2.0', 'Audi A6 2.0',\n",
       "       'Audi A8', 'Audi Q3 2.0', 'Audi Q5 2.0', 'Audi Q7', 'BMW 3 Series',\n",
       "       'BMW 5 Series', 'BMW 7 Series', 'BMW X1', 'BMW X1 sDrive20d',\n",
       "       'BMW X1 xDrive20d', 'Chevrolet Beat', 'Chevrolet Beat...\n",
       "                                                                            array(['Audi', 'BMW', 'Chevrolet', 'Datsun', 'Fiat', 'Force', 'Ford',\n",
       "       'Hindustan', 'Honda', 'Hyundai', 'Jaguar', 'Jeep', 'Land',\n",
       "       'Mahindra', 'Maruti', 'Mercedes', 'Mini', 'Mitsubishi', 'Nissan',\n",
       "       'Renault', 'Skoda', 'Tata', 'Toyota', 'Volkswagen', 'Volvo'],\n",
       "      dtype=object),\n",
       "                                                                            array(['Diesel', 'LPG', 'Petrol'], dtype=object)]),\n",
       "                                                  ['name', 'company',\n",
       "                                                   'fuel_type'])])),\n",
       "                ('linearregression', LinearRegression())])"
      ]
     },
     "execution_count": 33,
     "metadata": {},
     "output_type": "execute_result"
    }
   ],
   "source": [
    "pipe.fit(X_train,y_train)"
   ]
  },
  {
   "cell_type": "code",
   "execution_count": 34,
   "id": "697c120d",
   "metadata": {},
   "outputs": [],
   "source": [
    "y_pred=pipe.predict(X_test)"
   ]
  },
  {
   "cell_type": "code",
   "execution_count": 35,
   "id": "1f257fa3",
   "metadata": {},
   "outputs": [
    {
     "data": {
      "text/plain": [
       "0.6356660786968771"
      ]
     },
     "execution_count": 35,
     "metadata": {},
     "output_type": "execute_result"
    }
   ],
   "source": [
    "r2_score(y_test,y_pred)"
   ]
  },
  {
   "cell_type": "code",
   "execution_count": 59,
   "id": "dc0aec7f",
   "metadata": {},
   "outputs": [],
   "source": [
    "scores=[]\n",
    "for i in range(1000):\n",
    "    X_train,X_test,y_train,y_test=train_test_split(x,y,test_size=0.1,random_state=i)\n",
    "    lr=LinearRegression()\n",
    "    pipe=make_pipeline(column_trans,lr)\n",
    "    pipe.fit(X_train,y_train)\n",
    "    y_pred=pipe.predict(X_test)\n",
    "#     print(r2_score(y_test,y_pred),i)\n",
    "    scores.append(r2_score(y_test,y_pred))\n",
    "    \n",
    "    "
   ]
  },
  {
   "cell_type": "code",
   "execution_count": 60,
   "id": "4b509486",
   "metadata": {},
   "outputs": [
    {
     "data": {
      "text/plain": [
       "302"
      ]
     },
     "execution_count": 60,
     "metadata": {},
     "output_type": "execute_result"
    }
   ],
   "source": [
    "np.argmax(scores)"
   ]
  },
  {
   "cell_type": "code",
   "execution_count": 61,
   "id": "e83b26d2",
   "metadata": {},
   "outputs": [
    {
     "data": {
      "text/plain": [
       "0.8991272758525184"
      ]
     },
     "execution_count": 61,
     "metadata": {},
     "output_type": "execute_result"
    }
   ],
   "source": [
    "scores[np.argmax(scores)]"
   ]
  },
  {
   "cell_type": "code",
   "execution_count": 62,
   "id": "02dcc8d2",
   "metadata": {},
   "outputs": [],
   "source": [
    "import pickle"
   ]
  },
  {
   "cell_type": "code",
   "execution_count": 63,
   "id": "0a5942ba",
   "metadata": {},
   "outputs": [],
   "source": [
    "pickle.dump(pipe,open('LinearRegressionModel.pkl','wb'))"
   ]
  },
  {
   "cell_type": "code",
   "execution_count": 65,
   "id": "f61a7d41",
   "metadata": {},
   "outputs": [
    {
     "data": {
      "text/plain": [
       "array([430337.90484175])"
      ]
     },
     "execution_count": 65,
     "metadata": {},
     "output_type": "execute_result"
    }
   ],
   "source": [
    "pipe.predict(pd.DataFrame([['Maruti Suzuki Swift','Maruti',2019,100,'Petrol']],columns=['name','company','year','kms_driven','fuel_type']))"
   ]
  },
  {
   "cell_type": "code",
   "execution_count": null,
   "id": "6a7b22a0",
   "metadata": {},
   "outputs": [],
   "source": []
  }
 ],
 "metadata": {
  "kernelspec": {
   "display_name": "Python 3 (ipykernel)",
   "language": "python",
   "name": "python3"
  },
  "language_info": {
   "codemirror_mode": {
    "name": "ipython",
    "version": 3
   },
   "file_extension": ".py",
   "mimetype": "text/x-python",
   "name": "python",
   "nbconvert_exporter": "python",
   "pygments_lexer": "ipython3",
   "version": "3.10.13"
  }
 },
 "nbformat": 4,
 "nbformat_minor": 5
}
